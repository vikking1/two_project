{
 "cells": [
  {
   "cell_type": "markdown",
   "id": "c81daeeb",
   "metadata": {
    "deletable": false,
    "id": "c81daeeb"
   },
   "source": [
    "# Исследование надежности заемщиков\n"
   ]
  },
  {
   "cell_type": "markdown",
   "id": "744d7639",
   "metadata": {
    "deletable": false,
    "id": "744d7639"
   },
   "source": [
    "## Откройте таблицу и изучите общую информацию о данных"
   ]
  },
  {
   "cell_type": "markdown",
   "id": "e7a14c31",
   "metadata": {
    "deletable": false,
    "id": "e7a14c31"
   },
   "source": [
    "**Задание 1. Импортируйте библиотеку pandas. Считайте данные из csv-файла в датафрейм и сохраните в переменную `data`. Путь к файлу:**\n",
    "\n",
    "`/datasets/data.csv`"
   ]
  },
  {
   "cell_type": "code",
   "execution_count": 1,
   "id": "7bcf75c9",
   "metadata": {
    "deletable": false,
    "id": "7bcf75c9"
   },
   "outputs": [],
   "source": [
    "import pandas as pd\n",
    "\n",
    "try:\n",
    "    data = pd.read_csv('/datasets/data.csv')\n",
    "except:\n",
    "    data = pd.read_csv('https://code.s3.yandex.net/datasets/data.csv')"
   ]
  },
  {
   "cell_type": "markdown",
   "id": "b8038fe3",
   "metadata": {
    "deletable": false,
    "id": "b8038fe3"
   },
   "source": [
    "**Задание 2. Выведите первые 20 строчек датафрейма `data` на экран.**"
   ]
  },
  {
   "cell_type": "code",
   "execution_count": 2,
   "id": "2a7cab99",
   "metadata": {
    "deletable": false,
    "id": "2a7cab99",
    "outputId": "1a8f3ef2-d323-4ec2-ddf7-89670b5944c4"
   },
   "outputs": [
    {
     "data": {
      "text/html": [
       "<div>\n",
       "<style scoped>\n",
       "    .dataframe tbody tr th:only-of-type {\n",
       "        vertical-align: middle;\n",
       "    }\n",
       "\n",
       "    .dataframe tbody tr th {\n",
       "        vertical-align: top;\n",
       "    }\n",
       "\n",
       "    .dataframe thead th {\n",
       "        text-align: right;\n",
       "    }\n",
       "</style>\n",
       "<table border=\"1\" class=\"dataframe\">\n",
       "  <thead>\n",
       "    <tr style=\"text-align: right;\">\n",
       "      <th></th>\n",
       "      <th>children</th>\n",
       "      <th>days_employed</th>\n",
       "      <th>dob_years</th>\n",
       "      <th>education</th>\n",
       "      <th>education_id</th>\n",
       "      <th>family_status</th>\n",
       "      <th>family_status_id</th>\n",
       "      <th>gender</th>\n",
       "      <th>income_type</th>\n",
       "      <th>debt</th>\n",
       "      <th>total_income</th>\n",
       "      <th>purpose</th>\n",
       "    </tr>\n",
       "  </thead>\n",
       "  <tbody>\n",
       "    <tr>\n",
       "      <th>0</th>\n",
       "      <td>1</td>\n",
       "      <td>-8437.673028</td>\n",
       "      <td>42</td>\n",
       "      <td>высшее</td>\n",
       "      <td>0</td>\n",
       "      <td>женат / замужем</td>\n",
       "      <td>0</td>\n",
       "      <td>F</td>\n",
       "      <td>сотрудник</td>\n",
       "      <td>0</td>\n",
       "      <td>253875.639453</td>\n",
       "      <td>покупка жилья</td>\n",
       "    </tr>\n",
       "    <tr>\n",
       "      <th>1</th>\n",
       "      <td>1</td>\n",
       "      <td>-4024.803754</td>\n",
       "      <td>36</td>\n",
       "      <td>среднее</td>\n",
       "      <td>1</td>\n",
       "      <td>женат / замужем</td>\n",
       "      <td>0</td>\n",
       "      <td>F</td>\n",
       "      <td>сотрудник</td>\n",
       "      <td>0</td>\n",
       "      <td>112080.014102</td>\n",
       "      <td>приобретение автомобиля</td>\n",
       "    </tr>\n",
       "    <tr>\n",
       "      <th>2</th>\n",
       "      <td>0</td>\n",
       "      <td>-5623.422610</td>\n",
       "      <td>33</td>\n",
       "      <td>Среднее</td>\n",
       "      <td>1</td>\n",
       "      <td>женат / замужем</td>\n",
       "      <td>0</td>\n",
       "      <td>M</td>\n",
       "      <td>сотрудник</td>\n",
       "      <td>0</td>\n",
       "      <td>145885.952297</td>\n",
       "      <td>покупка жилья</td>\n",
       "    </tr>\n",
       "    <tr>\n",
       "      <th>3</th>\n",
       "      <td>3</td>\n",
       "      <td>-4124.747207</td>\n",
       "      <td>32</td>\n",
       "      <td>среднее</td>\n",
       "      <td>1</td>\n",
       "      <td>женат / замужем</td>\n",
       "      <td>0</td>\n",
       "      <td>M</td>\n",
       "      <td>сотрудник</td>\n",
       "      <td>0</td>\n",
       "      <td>267628.550329</td>\n",
       "      <td>дополнительное образование</td>\n",
       "    </tr>\n",
       "    <tr>\n",
       "      <th>4</th>\n",
       "      <td>0</td>\n",
       "      <td>340266.072047</td>\n",
       "      <td>53</td>\n",
       "      <td>среднее</td>\n",
       "      <td>1</td>\n",
       "      <td>гражданский брак</td>\n",
       "      <td>1</td>\n",
       "      <td>F</td>\n",
       "      <td>пенсионер</td>\n",
       "      <td>0</td>\n",
       "      <td>158616.077870</td>\n",
       "      <td>сыграть свадьбу</td>\n",
       "    </tr>\n",
       "    <tr>\n",
       "      <th>5</th>\n",
       "      <td>0</td>\n",
       "      <td>-926.185831</td>\n",
       "      <td>27</td>\n",
       "      <td>высшее</td>\n",
       "      <td>0</td>\n",
       "      <td>гражданский брак</td>\n",
       "      <td>1</td>\n",
       "      <td>M</td>\n",
       "      <td>компаньон</td>\n",
       "      <td>0</td>\n",
       "      <td>255763.565419</td>\n",
       "      <td>покупка жилья</td>\n",
       "    </tr>\n",
       "    <tr>\n",
       "      <th>6</th>\n",
       "      <td>0</td>\n",
       "      <td>-2879.202052</td>\n",
       "      <td>43</td>\n",
       "      <td>высшее</td>\n",
       "      <td>0</td>\n",
       "      <td>женат / замужем</td>\n",
       "      <td>0</td>\n",
       "      <td>F</td>\n",
       "      <td>компаньон</td>\n",
       "      <td>0</td>\n",
       "      <td>240525.971920</td>\n",
       "      <td>операции с жильем</td>\n",
       "    </tr>\n",
       "    <tr>\n",
       "      <th>7</th>\n",
       "      <td>0</td>\n",
       "      <td>-152.779569</td>\n",
       "      <td>50</td>\n",
       "      <td>СРЕДНЕЕ</td>\n",
       "      <td>1</td>\n",
       "      <td>женат / замужем</td>\n",
       "      <td>0</td>\n",
       "      <td>M</td>\n",
       "      <td>сотрудник</td>\n",
       "      <td>0</td>\n",
       "      <td>135823.934197</td>\n",
       "      <td>образование</td>\n",
       "    </tr>\n",
       "    <tr>\n",
       "      <th>8</th>\n",
       "      <td>2</td>\n",
       "      <td>-6929.865299</td>\n",
       "      <td>35</td>\n",
       "      <td>ВЫСШЕЕ</td>\n",
       "      <td>0</td>\n",
       "      <td>гражданский брак</td>\n",
       "      <td>1</td>\n",
       "      <td>F</td>\n",
       "      <td>сотрудник</td>\n",
       "      <td>0</td>\n",
       "      <td>95856.832424</td>\n",
       "      <td>на проведение свадьбы</td>\n",
       "    </tr>\n",
       "    <tr>\n",
       "      <th>9</th>\n",
       "      <td>0</td>\n",
       "      <td>-2188.756445</td>\n",
       "      <td>41</td>\n",
       "      <td>среднее</td>\n",
       "      <td>1</td>\n",
       "      <td>женат / замужем</td>\n",
       "      <td>0</td>\n",
       "      <td>M</td>\n",
       "      <td>сотрудник</td>\n",
       "      <td>0</td>\n",
       "      <td>144425.938277</td>\n",
       "      <td>покупка жилья для семьи</td>\n",
       "    </tr>\n",
       "    <tr>\n",
       "      <th>10</th>\n",
       "      <td>2</td>\n",
       "      <td>-4171.483647</td>\n",
       "      <td>36</td>\n",
       "      <td>высшее</td>\n",
       "      <td>0</td>\n",
       "      <td>женат / замужем</td>\n",
       "      <td>0</td>\n",
       "      <td>M</td>\n",
       "      <td>компаньон</td>\n",
       "      <td>0</td>\n",
       "      <td>113943.491460</td>\n",
       "      <td>покупка недвижимости</td>\n",
       "    </tr>\n",
       "    <tr>\n",
       "      <th>11</th>\n",
       "      <td>0</td>\n",
       "      <td>-792.701887</td>\n",
       "      <td>40</td>\n",
       "      <td>среднее</td>\n",
       "      <td>1</td>\n",
       "      <td>женат / замужем</td>\n",
       "      <td>0</td>\n",
       "      <td>F</td>\n",
       "      <td>сотрудник</td>\n",
       "      <td>0</td>\n",
       "      <td>77069.234271</td>\n",
       "      <td>покупка коммерческой недвижимости</td>\n",
       "    </tr>\n",
       "    <tr>\n",
       "      <th>12</th>\n",
       "      <td>0</td>\n",
       "      <td>NaN</td>\n",
       "      <td>65</td>\n",
       "      <td>среднее</td>\n",
       "      <td>1</td>\n",
       "      <td>гражданский брак</td>\n",
       "      <td>1</td>\n",
       "      <td>M</td>\n",
       "      <td>пенсионер</td>\n",
       "      <td>0</td>\n",
       "      <td>NaN</td>\n",
       "      <td>сыграть свадьбу</td>\n",
       "    </tr>\n",
       "    <tr>\n",
       "      <th>13</th>\n",
       "      <td>0</td>\n",
       "      <td>-1846.641941</td>\n",
       "      <td>54</td>\n",
       "      <td>неоконченное высшее</td>\n",
       "      <td>2</td>\n",
       "      <td>женат / замужем</td>\n",
       "      <td>0</td>\n",
       "      <td>F</td>\n",
       "      <td>сотрудник</td>\n",
       "      <td>0</td>\n",
       "      <td>130458.228857</td>\n",
       "      <td>приобретение автомобиля</td>\n",
       "    </tr>\n",
       "    <tr>\n",
       "      <th>14</th>\n",
       "      <td>0</td>\n",
       "      <td>-1844.956182</td>\n",
       "      <td>56</td>\n",
       "      <td>высшее</td>\n",
       "      <td>0</td>\n",
       "      <td>гражданский брак</td>\n",
       "      <td>1</td>\n",
       "      <td>F</td>\n",
       "      <td>компаньон</td>\n",
       "      <td>1</td>\n",
       "      <td>165127.911772</td>\n",
       "      <td>покупка жилой недвижимости</td>\n",
       "    </tr>\n",
       "    <tr>\n",
       "      <th>15</th>\n",
       "      <td>1</td>\n",
       "      <td>-972.364419</td>\n",
       "      <td>26</td>\n",
       "      <td>среднее</td>\n",
       "      <td>1</td>\n",
       "      <td>женат / замужем</td>\n",
       "      <td>0</td>\n",
       "      <td>F</td>\n",
       "      <td>сотрудник</td>\n",
       "      <td>0</td>\n",
       "      <td>116820.904450</td>\n",
       "      <td>строительство собственной недвижимости</td>\n",
       "    </tr>\n",
       "    <tr>\n",
       "      <th>16</th>\n",
       "      <td>0</td>\n",
       "      <td>-1719.934226</td>\n",
       "      <td>35</td>\n",
       "      <td>среднее</td>\n",
       "      <td>1</td>\n",
       "      <td>женат / замужем</td>\n",
       "      <td>0</td>\n",
       "      <td>F</td>\n",
       "      <td>сотрудник</td>\n",
       "      <td>0</td>\n",
       "      <td>289202.704229</td>\n",
       "      <td>недвижимость</td>\n",
       "    </tr>\n",
       "    <tr>\n",
       "      <th>17</th>\n",
       "      <td>0</td>\n",
       "      <td>-2369.999720</td>\n",
       "      <td>33</td>\n",
       "      <td>высшее</td>\n",
       "      <td>0</td>\n",
       "      <td>гражданский брак</td>\n",
       "      <td>1</td>\n",
       "      <td>M</td>\n",
       "      <td>сотрудник</td>\n",
       "      <td>0</td>\n",
       "      <td>90410.586745</td>\n",
       "      <td>строительство недвижимости</td>\n",
       "    </tr>\n",
       "    <tr>\n",
       "      <th>18</th>\n",
       "      <td>0</td>\n",
       "      <td>400281.136913</td>\n",
       "      <td>53</td>\n",
       "      <td>среднее</td>\n",
       "      <td>1</td>\n",
       "      <td>вдовец / вдова</td>\n",
       "      <td>2</td>\n",
       "      <td>F</td>\n",
       "      <td>пенсионер</td>\n",
       "      <td>0</td>\n",
       "      <td>56823.777243</td>\n",
       "      <td>на покупку подержанного автомобиля</td>\n",
       "    </tr>\n",
       "    <tr>\n",
       "      <th>19</th>\n",
       "      <td>0</td>\n",
       "      <td>-10038.818549</td>\n",
       "      <td>48</td>\n",
       "      <td>СРЕДНЕЕ</td>\n",
       "      <td>1</td>\n",
       "      <td>в разводе</td>\n",
       "      <td>3</td>\n",
       "      <td>F</td>\n",
       "      <td>сотрудник</td>\n",
       "      <td>0</td>\n",
       "      <td>242831.107982</td>\n",
       "      <td>на покупку своего автомобиля</td>\n",
       "    </tr>\n",
       "  </tbody>\n",
       "</table>\n",
       "</div>"
      ],
      "text/plain": [
       "    children  days_employed  dob_years            education  education_id  \\\n",
       "0          1   -8437.673028         42               высшее             0   \n",
       "1          1   -4024.803754         36              среднее             1   \n",
       "2          0   -5623.422610         33              Среднее             1   \n",
       "3          3   -4124.747207         32              среднее             1   \n",
       "4          0  340266.072047         53              среднее             1   \n",
       "5          0    -926.185831         27               высшее             0   \n",
       "6          0   -2879.202052         43               высшее             0   \n",
       "7          0    -152.779569         50              СРЕДНЕЕ             1   \n",
       "8          2   -6929.865299         35               ВЫСШЕЕ             0   \n",
       "9          0   -2188.756445         41              среднее             1   \n",
       "10         2   -4171.483647         36               высшее             0   \n",
       "11         0    -792.701887         40              среднее             1   \n",
       "12         0            NaN         65              среднее             1   \n",
       "13         0   -1846.641941         54  неоконченное высшее             2   \n",
       "14         0   -1844.956182         56               высшее             0   \n",
       "15         1    -972.364419         26              среднее             1   \n",
       "16         0   -1719.934226         35              среднее             1   \n",
       "17         0   -2369.999720         33               высшее             0   \n",
       "18         0  400281.136913         53              среднее             1   \n",
       "19         0  -10038.818549         48              СРЕДНЕЕ             1   \n",
       "\n",
       "       family_status  family_status_id gender income_type  debt  \\\n",
       "0    женат / замужем                 0      F   сотрудник     0   \n",
       "1    женат / замужем                 0      F   сотрудник     0   \n",
       "2    женат / замужем                 0      M   сотрудник     0   \n",
       "3    женат / замужем                 0      M   сотрудник     0   \n",
       "4   гражданский брак                 1      F   пенсионер     0   \n",
       "5   гражданский брак                 1      M   компаньон     0   \n",
       "6    женат / замужем                 0      F   компаньон     0   \n",
       "7    женат / замужем                 0      M   сотрудник     0   \n",
       "8   гражданский брак                 1      F   сотрудник     0   \n",
       "9    женат / замужем                 0      M   сотрудник     0   \n",
       "10   женат / замужем                 0      M   компаньон     0   \n",
       "11   женат / замужем                 0      F   сотрудник     0   \n",
       "12  гражданский брак                 1      M   пенсионер     0   \n",
       "13   женат / замужем                 0      F   сотрудник     0   \n",
       "14  гражданский брак                 1      F   компаньон     1   \n",
       "15   женат / замужем                 0      F   сотрудник     0   \n",
       "16   женат / замужем                 0      F   сотрудник     0   \n",
       "17  гражданский брак                 1      M   сотрудник     0   \n",
       "18    вдовец / вдова                 2      F   пенсионер     0   \n",
       "19         в разводе                 3      F   сотрудник     0   \n",
       "\n",
       "     total_income                                 purpose  \n",
       "0   253875.639453                           покупка жилья  \n",
       "1   112080.014102                 приобретение автомобиля  \n",
       "2   145885.952297                           покупка жилья  \n",
       "3   267628.550329              дополнительное образование  \n",
       "4   158616.077870                         сыграть свадьбу  \n",
       "5   255763.565419                           покупка жилья  \n",
       "6   240525.971920                       операции с жильем  \n",
       "7   135823.934197                             образование  \n",
       "8    95856.832424                   на проведение свадьбы  \n",
       "9   144425.938277                 покупка жилья для семьи  \n",
       "10  113943.491460                    покупка недвижимости  \n",
       "11   77069.234271       покупка коммерческой недвижимости  \n",
       "12            NaN                         сыграть свадьбу  \n",
       "13  130458.228857                 приобретение автомобиля  \n",
       "14  165127.911772              покупка жилой недвижимости  \n",
       "15  116820.904450  строительство собственной недвижимости  \n",
       "16  289202.704229                            недвижимость  \n",
       "17   90410.586745              строительство недвижимости  \n",
       "18   56823.777243      на покупку подержанного автомобиля  \n",
       "19  242831.107982            на покупку своего автомобиля  "
      ]
     },
     "execution_count": 2,
     "metadata": {},
     "output_type": "execute_result"
    }
   ],
   "source": [
    "data.head(20)"
   ]
  },
  {
   "cell_type": "markdown",
   "id": "1c12e233",
   "metadata": {
    "deletable": false,
    "id": "1c12e233"
   },
   "source": [
    "**Задание 3. Выведите основную информацию о датафрейме с помощью метода `info()`.**"
   ]
  },
  {
   "cell_type": "code",
   "execution_count": 3,
   "id": "2b757bca",
   "metadata": {
    "deletable": false,
    "id": "2b757bca",
    "outputId": "15376089-8dad-46c9-b520-c05248d43158"
   },
   "outputs": [
    {
     "name": "stdout",
     "output_type": "stream",
     "text": [
      "<class 'pandas.core.frame.DataFrame'>\n",
      "RangeIndex: 21525 entries, 0 to 21524\n",
      "Data columns (total 12 columns):\n",
      " #   Column            Non-Null Count  Dtype  \n",
      "---  ------            --------------  -----  \n",
      " 0   children          21525 non-null  int64  \n",
      " 1   days_employed     19351 non-null  float64\n",
      " 2   dob_years         21525 non-null  int64  \n",
      " 3   education         21525 non-null  object \n",
      " 4   education_id      21525 non-null  int64  \n",
      " 5   family_status     21525 non-null  object \n",
      " 6   family_status_id  21525 non-null  int64  \n",
      " 7   gender            21525 non-null  object \n",
      " 8   income_type       21525 non-null  object \n",
      " 9   debt              21525 non-null  int64  \n",
      " 10  total_income      19351 non-null  float64\n",
      " 11  purpose           21525 non-null  object \n",
      "dtypes: float64(2), int64(5), object(5)\n",
      "memory usage: 2.0+ MB\n"
     ]
    }
   ],
   "source": [
    "data.info()"
   ]
  },
  {
   "cell_type": "markdown",
   "id": "333ec665",
   "metadata": {
    "deletable": false,
    "id": "333ec665"
   },
   "source": [
    "## Предобработка данных"
   ]
  },
  {
   "cell_type": "markdown",
   "id": "02d92d53",
   "metadata": {
    "deletable": false,
    "id": "02d92d53"
   },
   "source": [
    "### Удаление пропусков"
   ]
  },
  {
   "cell_type": "markdown",
   "id": "cd84967c",
   "metadata": {
    "deletable": false,
    "id": "cd84967c"
   },
   "source": [
    "**Задание 4. Выведите количество пропущенных значений для каждого столбца. Используйте комбинацию двух методов.**"
   ]
  },
  {
   "cell_type": "code",
   "execution_count": 4,
   "id": "7f9b2309",
   "metadata": {
    "deletable": false,
    "id": "7f9b2309",
    "outputId": "81f4d817-781c-465c-ed15-91ce4446810d"
   },
   "outputs": [
    {
     "data": {
      "text/plain": [
       "children               0\n",
       "days_employed       2174\n",
       "dob_years              0\n",
       "education              0\n",
       "education_id           0\n",
       "family_status          0\n",
       "family_status_id       0\n",
       "gender                 0\n",
       "income_type            0\n",
       "debt                   0\n",
       "total_income        2174\n",
       "purpose                0\n",
       "dtype: int64"
      ]
     },
     "execution_count": 4,
     "metadata": {},
     "output_type": "execute_result"
    }
   ],
   "source": [
    "data.isna().sum()"
   ]
  },
  {
   "cell_type": "markdown",
   "id": "db86e27b",
   "metadata": {
    "deletable": false,
    "id": "db86e27b"
   },
   "source": [
    "**Задание 5. В двух столбцах есть пропущенные значения. Один из них — `days_employed`. Пропуски в этом столбце вы обработаете на следующем этапе. Другой столбец с пропущенными значениями — `total_income` — хранит данные о доходах. На сумму дохода сильнее всего влияет тип занятости, поэтому заполнить пропуски в этом столбце нужно медианным значением по каждому типу из столбца `income_type`. Например, у человека с типом занятости `сотрудник` пропуск в столбце `total_income` должен быть заполнен медианным доходом среди всех записей с тем же типом.**"
   ]
  },
  {
   "cell_type": "code",
   "execution_count": 5,
   "id": "42006a93",
   "metadata": {
    "deletable": false,
    "id": "42006a93"
   },
   "outputs": [],
   "source": [
    "for t in data['income_type'].unique():\n",
    "    try:\n",
    "        data.loc[(data['income_type'] == t) & (data['total_income'].isna()), 'total_income'] = \\\n",
    "        data.loc[(data['income_type'] == t), 'total_income'].median()\n",
    "    except:\n",
    "        print('Ошибка в данных')"
   ]
  },
  {
   "cell_type": "markdown",
   "id": "89da5ece",
   "metadata": {
    "deletable": false,
    "id": "89da5ece"
   },
   "source": [
    "### Обработка аномальных значений"
   ]
  },
  {
   "cell_type": "markdown",
   "id": "57964554",
   "metadata": {
    "deletable": false,
    "id": "57964554"
   },
   "source": [
    "**Задание 6. В данных могут встречаться артефакты (аномалии) — значения, которые не отражают действительность и появились по какой-то ошибке. таким артефактом будет отрицательное количество дней трудового стажа в столбце `days_employed`. Для реальных данных это нормально. Обработайте значения в этом столбце: замените все отрицательные значения положительными с помощью метода `abs()`.**"
   ]
  },
  {
   "cell_type": "code",
   "execution_count": 6,
   "id": "f6f055bf",
   "metadata": {
    "deletable": false,
    "id": "f6f055bf"
   },
   "outputs": [],
   "source": [
    "data['days_employed'] = data['days_employed'].abs()"
   ]
  },
  {
   "cell_type": "markdown",
   "id": "6107dd2f",
   "metadata": {
    "deletable": false,
    "id": "6107dd2f"
   },
   "source": [
    "**Задание 7. Для каждого типа занятости выведите медианное значение трудового стажа `days_employed` в днях.**"
   ]
  },
  {
   "cell_type": "code",
   "execution_count": 7,
   "id": "85a5faf6",
   "metadata": {
    "deletable": false,
    "id": "85a5faf6",
    "outputId": "801ef80e-522b-4668-f34e-565af7432bcf"
   },
   "outputs": [
    {
     "data": {
      "text/plain": [
       "income_type\n",
       "безработный        366413.652744\n",
       "в декрете            3296.759962\n",
       "госслужащий          2689.368353\n",
       "компаньон            1547.382223\n",
       "пенсионер          365213.306266\n",
       "предприниматель       520.848083\n",
       "сотрудник            1574.202821\n",
       "студент               578.751554\n",
       "Name: days_employed, dtype: float64"
      ]
     },
     "execution_count": 7,
     "metadata": {},
     "output_type": "execute_result"
    }
   ],
   "source": [
    "data.groupby('income_type')['days_employed'].agg('median')"
   ]
  },
  {
   "cell_type": "markdown",
   "id": "38d1a030",
   "metadata": {
    "deletable": false,
    "id": "38d1a030"
   },
   "source": [
    "У двух типов (безработные и пенсионеры) получатся аномально большие значения. Исправить такие значения сложно, поэтому оставьте их как есть. Тем более этот столбец не понадобится вам для исследования."
   ]
  },
  {
   "cell_type": "markdown",
   "id": "d8a9f147",
   "metadata": {
    "deletable": false,
    "id": "d8a9f147"
   },
   "source": [
    "**Задание 8. Выведите перечень уникальных значений столбца `children`.**"
   ]
  },
  {
   "cell_type": "code",
   "execution_count": 8,
   "id": "ef5056eb",
   "metadata": {
    "deletable": false,
    "id": "ef5056eb",
    "outputId": "6975b15c-7f95-4697-d16d-a0c79b657b03"
   },
   "outputs": [
    {
     "data": {
      "text/plain": [
       "array([ 1,  0,  3,  2, -1,  4, 20,  5])"
      ]
     },
     "execution_count": 8,
     "metadata": {},
     "output_type": "execute_result"
    }
   ],
   "source": [
    "data['children'].unique()"
   ]
  },
  {
   "cell_type": "markdown",
   "id": "40b9ebf2",
   "metadata": {
    "deletable": false,
    "id": "40b9ebf2"
   },
   "source": [
    "**Задание 9. В столбце `children` есть два аномальных значения. Удалите строки, в которых встречаются такие аномальные значения из датафрейма `data`.**"
   ]
  },
  {
   "cell_type": "code",
   "execution_count": 9,
   "id": "3ff9801d",
   "metadata": {
    "deletable": false,
    "id": "3ff9801d"
   },
   "outputs": [],
   "source": [
    "data = data[(data['children'] != -1) & (data['children'] != 20)]"
   ]
  },
  {
   "cell_type": "markdown",
   "id": "bbc4d0ce",
   "metadata": {
    "deletable": false,
    "id": "bbc4d0ce"
   },
   "source": [
    "**Задание 10. Ещё раз выведите перечень уникальных значений столбца `children`, чтобы убедиться, что артефакты удалены.**"
   ]
  },
  {
   "cell_type": "code",
   "execution_count": 10,
   "id": "ad4fa8b7",
   "metadata": {
    "deletable": false,
    "id": "ad4fa8b7",
    "outputId": "b2097101-d49d-44d9-901b-32a65c9463d1"
   },
   "outputs": [
    {
     "data": {
      "text/plain": [
       "array([1, 0, 3, 2, 4, 5])"
      ]
     },
     "execution_count": 10,
     "metadata": {},
     "output_type": "execute_result"
    }
   ],
   "source": [
    "data['children'].unique()"
   ]
  },
  {
   "cell_type": "markdown",
   "id": "75440b63",
   "metadata": {
    "deletable": false,
    "id": "75440b63"
   },
   "source": [
    "### Удаление пропусков (продолжение)"
   ]
  },
  {
   "cell_type": "markdown",
   "id": "f4ea573f",
   "metadata": {
    "deletable": false,
    "id": "f4ea573f"
   },
   "source": [
    "**Задание 11. Заполните пропуски в столбце `days_employed` медианными значениями по каждого типа занятости `income_type`.**"
   ]
  },
  {
   "cell_type": "code",
   "execution_count": 11,
   "id": "af6b1a7e",
   "metadata": {
    "deletable": false,
    "id": "af6b1a7e"
   },
   "outputs": [],
   "source": [
    "for t in data['income_type'].unique():\n",
    "    try:\n",
    "        data.loc[(data['income_type'] == t) & (data['days_employed'].isna()), 'days_employed'] = \\\n",
    "        data.loc[(data['income_type'] == t), 'days_employed'].median()\n",
    "    except:\n",
    "        print('ошибка в данных')"
   ]
  },
  {
   "cell_type": "markdown",
   "id": "2753f40d",
   "metadata": {
    "deletable": false,
    "id": "2753f40d"
   },
   "source": [
    "**Задание 12. Убедитесь, что все пропуски заполнены. Проверьте себя и ещё раз выведите количество пропущенных значений для каждого столбца с помощью двух методов.**"
   ]
  },
  {
   "cell_type": "code",
   "execution_count": 12,
   "id": "55f78bc2",
   "metadata": {
    "deletable": false,
    "id": "55f78bc2",
    "outputId": "8da1e4e1-358e-4e87-98c9-f261bce0a7b2"
   },
   "outputs": [
    {
     "data": {
      "text/plain": [
       "children            0\n",
       "days_employed       0\n",
       "dob_years           0\n",
       "education           0\n",
       "education_id        0\n",
       "family_status       0\n",
       "family_status_id    0\n",
       "gender              0\n",
       "income_type         0\n",
       "debt                0\n",
       "total_income        0\n",
       "purpose             0\n",
       "dtype: int64"
      ]
     },
     "execution_count": 12,
     "metadata": {},
     "output_type": "execute_result"
    }
   ],
   "source": [
    "data.isna().sum()"
   ]
  },
  {
   "cell_type": "markdown",
   "id": "ddc81e43",
   "metadata": {
    "deletable": false,
    "id": "ddc81e43"
   },
   "source": [
    "### Изменение типов данных"
   ]
  },
  {
   "cell_type": "markdown",
   "id": "42d19d24",
   "metadata": {
    "deletable": false,
    "id": "42d19d24"
   },
   "source": [
    "**Задание 13. Замените вещественный тип данных в столбце `total_income` на целочисленный с помощью метода `astype()`.**"
   ]
  },
  {
   "cell_type": "code",
   "execution_count": 13,
   "id": "920b65ad",
   "metadata": {
    "deletable": false,
    "id": "920b65ad"
   },
   "outputs": [],
   "source": [
    "data['total_income'] = data['total_income'].astype(int)"
   ]
  },
  {
   "cell_type": "markdown",
   "id": "80c420ba",
   "metadata": {
    "deletable": false,
    "id": "80c420ba"
   },
   "source": [
    "### Обработка дубликатов"
   ]
  },
  {
   "cell_type": "markdown",
   "id": "dc587695",
   "metadata": {
    "deletable": false,
    "id": "dc587695"
   },
   "source": [
    "**Задание 14. Выведите на экран количество строк-дубликатов в данных. Если такие строки присутствуют, удалите их.**"
   ]
  },
  {
   "cell_type": "code",
   "execution_count": 14,
   "id": "3ee445e4",
   "metadata": {
    "deletable": false,
    "id": "3ee445e4",
    "outputId": "9684deba-1934-42d1-99e1-cda61740f822"
   },
   "outputs": [
    {
     "data": {
      "text/plain": [
       "54"
      ]
     },
     "execution_count": 14,
     "metadata": {},
     "output_type": "execute_result"
    }
   ],
   "source": [
    "data.duplicated().sum()"
   ]
  },
  {
   "cell_type": "code",
   "execution_count": 15,
   "id": "8575fe05",
   "metadata": {
    "deletable": false,
    "id": "8575fe05"
   },
   "outputs": [],
   "source": [
    "data = data.drop_duplicates()"
   ]
  },
  {
   "cell_type": "markdown",
   "id": "9771a76c",
   "metadata": {
    "deletable": false,
    "id": "9771a76c"
   },
   "source": [
    "**Задание 15. Обработайте неявные дубликаты в столбце `education`. В этом столбце есть одни и те же значения, но записанные по-разному: с использованием заглавных и строчных букв. Приведите их к нижнему регистру. Проверьте остальные столбцы.**"
   ]
  },
  {
   "cell_type": "code",
   "execution_count": 16,
   "id": "a9f8e2bf",
   "metadata": {
    "deletable": false,
    "id": "a9f8e2bf"
   },
   "outputs": [],
   "source": [
    "data['education'] = data['education'].str.lower()"
   ]
  },
  {
   "cell_type": "markdown",
   "id": "9904cf55",
   "metadata": {
    "deletable": false,
    "id": "9904cf55"
   },
   "source": [
    "### Категоризация данных"
   ]
  },
  {
   "cell_type": "markdown",
   "id": "72fcc8a2",
   "metadata": {
    "deletable": false,
    "id": "72fcc8a2"
   },
   "source": [
    "**Задание 16. На основании диапазонов, указанных ниже, создайте в датафрейме `data` столбец `total_income_category` с категориями:**\n",
    "\n",
    "- 0–30000 — `'E'`;\n",
    "- 30001–50000 — `'D'`;\n",
    "- 50001–200000 — `'C'`;\n",
    "- 200001–1000000 — `'B'`;\n",
    "- 1000001 и выше — `'A'`.\n",
    "\n",
    "\n",
    "**Например, кредитополучателю с доходом 25000 нужно назначить категорию `'E'`, а клиенту, получающему 235000, — `'B'`. Используйте собственную функцию с именем `categorize_income()` и метод `apply()`.**"
   ]
  },
  {
   "cell_type": "code",
   "execution_count": 17,
   "id": "e1771346",
   "metadata": {
    "deletable": false,
    "id": "e1771346"
   },
   "outputs": [],
   "source": [
    "def categorize_income(income):\n",
    "    try:\n",
    "        if 0 <= income <= 30_000:\n",
    "            return 'E'\n",
    "        elif 30_001 <= income <= 50_000:\n",
    "            return 'D'\n",
    "        elif 50_001 <= income <= 200_000:\n",
    "            return 'C'\n",
    "        elif 200_001 <= income <= 1_000_000:\n",
    "            return 'B'\n",
    "        elif income >= 1_000_001:\n",
    "            return 'A'\n",
    "    except:\n",
    "        pass"
   ]
  },
  {
   "cell_type": "code",
   "execution_count": 18,
   "id": "d5f3586d",
   "metadata": {
    "deletable": false,
    "id": "d5f3586d"
   },
   "outputs": [],
   "source": [
    "data['total_income_category'] = data['total_income'].apply(categorize_income)"
   ]
  },
  {
   "cell_type": "markdown",
   "id": "dde49b5c",
   "metadata": {
    "deletable": false,
    "id": "dde49b5c"
   },
   "source": [
    "**Задание 17. Выведите на экран перечень уникальных целей взятия кредита из столбца `purpose`.**"
   ]
  },
  {
   "cell_type": "code",
   "execution_count": 19,
   "id": "f67ce9b3",
   "metadata": {
    "deletable": false,
    "id": "f67ce9b3",
    "outputId": "673c12d9-7d7e-4ae0-9812-c622c89dd244"
   },
   "outputs": [
    {
     "data": {
      "text/plain": [
       "array(['покупка жилья', 'приобретение автомобиля',\n",
       "       'дополнительное образование', 'сыграть свадьбу',\n",
       "       'операции с жильем', 'образование', 'на проведение свадьбы',\n",
       "       'покупка жилья для семьи', 'покупка недвижимости',\n",
       "       'покупка коммерческой недвижимости', 'покупка жилой недвижимости',\n",
       "       'строительство собственной недвижимости', 'недвижимость',\n",
       "       'строительство недвижимости', 'на покупку подержанного автомобиля',\n",
       "       'на покупку своего автомобиля',\n",
       "       'операции с коммерческой недвижимостью',\n",
       "       'строительство жилой недвижимости', 'жилье',\n",
       "       'операции со своей недвижимостью', 'автомобили',\n",
       "       'заняться образованием', 'сделка с подержанным автомобилем',\n",
       "       'получение образования', 'автомобиль', 'свадьба',\n",
       "       'получение дополнительного образования', 'покупка своего жилья',\n",
       "       'операции с недвижимостью', 'получение высшего образования',\n",
       "       'свой автомобиль', 'сделка с автомобилем',\n",
       "       'профильное образование', 'высшее образование',\n",
       "       'покупка жилья для сдачи', 'на покупку автомобиля', 'ремонт жилью',\n",
       "       'заняться высшим образованием'], dtype=object)"
      ]
     },
     "execution_count": 19,
     "metadata": {},
     "output_type": "execute_result"
    }
   ],
   "source": [
    "data['purpose'].unique()"
   ]
  },
  {
   "cell_type": "markdown",
   "id": "85d0aef0",
   "metadata": {
    "deletable": false,
    "id": "85d0aef0"
   },
   "source": [
    "**Задание 18. Создайте функцию, которая на основании данных из столбца `purpose` сформирует новый столбец `purpose_category`, в который войдут следующие категории:**\n",
    "\n",
    "- `'операции с автомобилем'`,\n",
    "- `'операции с недвижимостью'`,\n",
    "- `'проведение свадьбы'`,\n",
    "- `'получение образования'`.\n",
    "\n",
    "**Например, если в столбце `purpose` находится подстрока `'на покупку автомобиля'`, то в столбце `purpose_category` должна появиться строка `'операции с автомобилем'`.**\n",
    "\n",
    "**Используйте собственную функцию с именем `categorize_purpose()` и метод `apply()`. Изучите данные в столбце `purpose` и определите, какие подстроки помогут вам правильно определить категорию.**"
   ]
  },
  {
   "cell_type": "code",
   "execution_count": 20,
   "id": "e149fab4",
   "metadata": {
    "deletable": false,
    "id": "e149fab4"
   },
   "outputs": [],
   "source": [
    "def categorize_purpose(row):\n",
    "    try:\n",
    "        if 'автом' in row:\n",
    "            return 'операции с автомобилем'\n",
    "        elif 'жил' in row or 'недвиж' in row:\n",
    "            return 'операции с недвижимостью'\n",
    "        elif 'свад' in row:\n",
    "            return 'проведение свадьбы'\n",
    "        elif 'образов' in row:\n",
    "            return 'получение образования'\n",
    "    except:\n",
    "        return 'нет категории'"
   ]
  },
  {
   "cell_type": "code",
   "execution_count": 21,
   "id": "bf36e69b",
   "metadata": {
    "deletable": false,
    "id": "bf36e69b"
   },
   "outputs": [],
   "source": [
    "data['purpose_category'] = data['purpose'].apply(categorize_purpose)"
   ]
  },
  {
   "cell_type": "markdown",
   "id": "09b242bf",
   "metadata": {
    "deletable": false,
    "editable": false,
    "id": "09b242bf"
   },
   "source": [
    "## Исследуйте данные и ответьте на вопросы"
   ]
  },
  {
   "cell_type": "markdown",
   "id": "c5d66278",
   "metadata": {
    "deletable": false,
    "editable": false,
    "id": "c5d66278"
   },
   "source": [
    "**Задание 19. Есть ли зависимость между количеством детей и возвратом кредита в срок?**"
   ]
  },
  {
   "cell_type": "code",
   "execution_count": 22,
   "id": "2cacfc4a",
   "metadata": {
    "id": "2cacfc4a"
   },
   "outputs": [
    {
     "name": "stdout",
     "output_type": "stream",
     "text": [
      "Колличетво уникальных значений в столбце дети :\n",
      " 0    14107\n",
      "1     4809\n",
      "2     2052\n",
      "3      330\n",
      "4       41\n",
      "5        9\n",
      "Name: children, dtype: int64\n",
      "children\n",
      "0    0.075353\n",
      "1    0.092327\n",
      "2    0.094542\n",
      "3    0.081818\n",
      "4    0.097561\n",
      "5    0.000000\n",
      "dtype: float64\n"
     ]
    }
   ],
   "source": [
    "#print('Колличество уникальных значений в столбце задолжности :\\n',data ['debt'].value_counts())\n",
    "print(f'Колличетво уникальных значений в столбце дети :\\n',data['children'].value_counts())\n",
    "#надо найти связь между детьми и задолжностью\n",
    "chi_and_debt =data.groupby('children').agg({'debt':['count','sum']})\n",
    "print(chi_and_debt['debt']['sum']/chi_and_debt['debt']['count']) # по данной таблице видно что просрочек нет у людей с 5 детьми"
   ]
  },
  {
   "cell_type": "markdown",
   "id": "3a6b99ec",
   "metadata": {
    "deletable": false,
    "id": "3a6b99ec"
   },
   "source": [
    "**Вывод:** По полученным данным можно сказать, что :\n",
    "- колличество детей влияет на возврат средств в срок\n",
    "- при колличестве 5 детей люди возращают средства в срок, но колличество маленькое (9 человек из 21_348) нельзя сказать, что все у кого больше 4 детей отдают все в срок (скепсис)\n",
    "- Так же можно сказать, что кредиты берет большее колличество людей без детей, и данная категория людей являеться наиболее стабильной в вероятности отдачи кредита в срок (за счёт их колличества)"
   ]
  },
  {
   "cell_type": "markdown",
   "id": "97be82ca",
   "metadata": {
    "deletable": false,
    "editable": false,
    "id": "97be82ca"
   },
   "source": [
    "**Задание 20. Есть ли зависимость между семейным положением и возвратом кредита в срок?**"
   ]
  },
  {
   "cell_type": "code",
   "execution_count": 23,
   "id": "dc3f7ee8",
   "metadata": {
    "id": "dc3f7ee8"
   },
   "outputs": [
    {
     "name": "stdout",
     "output_type": "stream",
     "text": [
      "Колличетво уникальных значений в столбце  семеное положение :\n",
      " женат / замужем          12266\n",
      "гражданский брак          4146\n",
      "Не женат / не замужем     2796\n",
      "в разводе                 1189\n",
      "вдовец / вдова             951\n",
      "Name: family_status, dtype: int64\n",
      "family_status\n",
      "Не женат / не замужем    0.097639\n",
      "в разводе                0.070648\n",
      "вдовец / вдова           0.066246\n",
      "гражданский брак         0.092861\n",
      "женат / замужем          0.075575\n",
      "dtype: float64\n"
     ]
    }
   ],
   "source": [
    "print(f'Колличетво уникальных значений в столбце  семеное положение :\\n',data['family_status'].value_counts())\n",
    "fam_and_debt =data.groupby('family_status').agg({'debt':['count','sum']})\n",
    "print(fam_and_debt['debt']['sum']/fam_and_debt['debt']['count']) "
   ]
  },
  {
   "cell_type": "markdown",
   "id": "1cef7837",
   "metadata": {
    "deletable": false,
    "id": "1cef7837"
   },
   "source": [
    "**Вывод:** По полученным данным можно сказать то, что:\n",
    "- Не женатые/ не замужние : имеет наибольшую вероятность не уплаты кредита в срок, это можно связать с тем что это молодые люди, которые не могут управлять бюджетом\n",
    "- Наибольшую вероятность возврата кредита в срок, являются вдовцы, но и также они имеют наименьший процент выборки \n",
    "- Наибольшее колличество людей, которые берут кредит это люди в браке, и \"медианной\" вероятностью отдают в срок (вероятность являеться наиболее стабильной за счёт колличетсва ) "
   ]
  },
  {
   "cell_type": "markdown",
   "id": "1e8b2fca",
   "metadata": {
    "deletable": false,
    "editable": false,
    "id": "1e8b2fca"
   },
   "source": [
    "**Задание 21. Есть ли зависимость между уровнем дохода и возвратом кредита в срок?**"
   ]
  },
  {
   "cell_type": "code",
   "execution_count": 24,
   "id": "cd7e3720",
   "metadata": {
    "id": "cd7e3720"
   },
   "outputs": [
    {
     "name": "stdout",
     "output_type": "stream",
     "text": [
      "Колличетво уникальных значений в столбце  уровень доходов по критерию :\n",
      " C    15938\n",
      "B     5014\n",
      "D      349\n",
      "A       25\n",
      "E       22\n",
      "Name: total_income_category, dtype: int64\n",
      "total_income_category\n",
      "A    0.080000\n",
      "B    0.070602\n",
      "C    0.084891\n",
      "D    0.060172\n",
      "E    0.090909\n",
      "dtype: float64\n"
     ]
    }
   ],
   "source": [
    "print(f'Колличетво уникальных значений в столбце  уровень доходов по критерию :\\n',data['total_income_category'].value_counts())\n",
    "cash_and_debt =data.groupby('total_income_category').agg({'debt':['count','sum']})\n",
    "print(cash_and_debt['debt']['sum']/cash_and_debt['debt']['count']) \n"
   ]
  },
  {
   "cell_type": "markdown",
   "id": "b4dd8063",
   "metadata": {
    "deletable": false,
    "id": "e8593def"
   },
   "source": [
    "**Вывод:** По полученным данным можно сказать то, что:\n",
    "- Класс E - с наибольшой вероятностью  не отдадут кредит в срок так, как имеют доход до 30 тысяч\n",
    "- Класс D - с наибольшей вероятностью отдадут кредит в срок\n",
    "- (наиболле правдоподобная вероятность возврата кредита у Класса C, так как категория имеет наибольшее колличество людей, тем самым стабилизирует вероятность отдачи кредита)\n",
    "- Класс А имеет наибольшую заработную плату, но не саммую высокую вероятность оплаты кредита в срок( колличество людей как и у класса E и не являеться стабильная вероятность) \n",
    "- спасибо за подсказку в синтаксисе "
   ]
  },
  {
   "cell_type": "markdown",
   "id": "99ecbd1f",
   "metadata": {
    "deletable": false,
    "editable": false,
    "id": "99ecbd1f"
   },
   "source": [
    "**Задание 22. Как разные цели кредита влияют на его возврат в срок?**"
   ]
  },
  {
   "cell_type": "code",
   "execution_count": 25,
   "id": "2b687290",
   "metadata": {
    "id": "2b687290"
   },
   "outputs": [
    {
     "name": "stdout",
     "output_type": "stream",
     "text": [
      "Колличетво уникальных значений в столбце  цель кредита по критерию :\n",
      " операции с недвижимостью    10754\n",
      "операции с автомобилем       4281\n",
      "получение образования        3989\n",
      "проведение свадьбы           2324\n",
      "Name: purpose_category, dtype: int64\n",
      "purpose_category\n",
      "операции с автомобилем      0.093436\n",
      "операции с недвижимостью    0.072531\n",
      "получение образования       0.092504\n",
      "проведение свадьбы          0.078744\n",
      "dtype: float64\n"
     ]
    }
   ],
   "source": [
    "print(f'Колличетво уникальных значений в столбце  цель кредита по критерию :\\n',data['purpose_category'].value_counts())\n",
    "pur_and_debt =data.groupby('purpose_category').agg({'debt':['count','sum']})\n",
    "print(pur_and_debt['debt']['sum']/pur_and_debt['debt']['count']) "
   ]
  },
  {
   "cell_type": "markdown",
   "id": "b4bb2ce6",
   "metadata": {
    "deletable": false,
    "id": "b4bb2ce6"
   },
   "source": [
    "**Вывод:** По полученным данным можно сказать то, что:\n",
    "- по колличествам в каждой группе, можно сказать, что данные стали равномернее чем для других вариантах рассмотренных выше\n",
    "- наиболее вероятной группой людей закрывающих кредит в срок, являються люди, которыепроизводят операции с недвижимостью  (так как это связанно с тем что данные кредиты даються под тоже самое жилье где и живет человек, тем самым люди будут пытаться закрывать все в срок )\n",
    "- наиболее вероятной группой людей закрывающих кредит в не срок, являються люди, которые берут кредит на операции с автомобилем \n"
   ]
  },
  {
   "cell_type": "markdown",
   "id": "09c3ac4c",
   "metadata": {
    "deletable": false,
    "editable": false,
    "id": "09c3ac4c"
   },
   "source": [
    "**Задание 23. Приведите возможные причины появления пропусков в исходных данных.**"
   ]
  },
  {
   "cell_type": "code",
   "execution_count": 26,
   "id": "91074811",
   "metadata": {},
   "outputs": [
    {
     "name": "stdout",
     "output_type": "stream",
     "text": [
      "3820\n"
     ]
    }
   ],
   "source": [
    " print(data.loc[data['income_type']=='пенсионер']['total_income'].count())"
   ]
  },
  {
   "cell_type": "markdown",
   "id": "9da2ceda",
   "metadata": {
    "deletable": false,
    "id": "9da2ceda"
   },
   "source": [
    "*Ответ:* Могу предложить данные были с пропусками из-за того, что не которые не имеют заработка с работы и самой работы  (например как пенсионеры) \n",
    "могу выразить свое предположение:\n",
    "как мне кажеться доход тут учитывался только на данный момент и с какой-то работы, но не с выплат как пенсионерам из-за этого там есть пропуски, по хорошему надо было оценить на каких именно людях были пропуски и так была бы картина яснее, если же на пенсионерах которые не работают то моя гипотеза верна, ели же туда будет входить другие люди без работы и без заработной платы то может это и вызвано человеческим фактором при заполнении либо же технической кратковременной."
   ]
  },
  {
   "cell_type": "markdown",
   "id": "7b0487d6",
   "metadata": {
    "deletable": false,
    "editable": false,
    "id": "7b0487d6"
   },
   "source": [
    "**Задание 24. Объясните, почему заполнить пропуски медианным значением — лучшее решение для количественных переменных.**"
   ]
  },
  {
   "cell_type": "markdown",
   "id": "7ecf2b8e",
   "metadata": {
    "deletable": false,
    "id": "7ecf2b8e"
   },
   "source": [
    "*Ответ:* Так как количественные данные которые были полученные для данной работы, имеют большую разницу между друг друго и для объективности данных использовалось медиана. "
   ]
  },
  {
   "cell_type": "markdown",
   "id": "6db5255a",
   "metadata": {
    "deletable": false,
    "editable": false,
    "id": "6db5255a"
   },
   "source": [
    "## Общий вывод."
   ]
  },
  {
   "cell_type": "markdown",
   "id": "bad65432",
   "metadata": {
    "id": "bad65432"
   },
   "source": [
    "По данному DataFrame  можно , сказать что:\n",
    "Существует зависимость закрытия кредита в срок от таких факторов: наличие детей и их колличества, цель кредита, семейного статуса и уровня дохода человека."
   ]
  }
 ],
 "metadata": {
  "ExecuteTimeLog": [
   {
    "duration": 48,
    "start_time": "2022-07-11T14:25:32.604Z"
   },
   {
    "duration": 443,
    "start_time": "2022-07-11T14:25:42.312Z"
   },
   {
    "duration": 22,
    "start_time": "2022-07-11T14:25:42.757Z"
   },
   {
    "duration": 20,
    "start_time": "2022-07-11T14:25:42.780Z"
   },
   {
    "duration": 9,
    "start_time": "2022-07-11T14:25:42.802Z"
   },
   {
    "duration": 33,
    "start_time": "2022-07-11T14:25:42.812Z"
   },
   {
    "duration": 4,
    "start_time": "2022-07-11T14:25:42.846Z"
   },
   {
    "duration": 10,
    "start_time": "2022-07-11T14:25:42.851Z"
   },
   {
    "duration": 4,
    "start_time": "2022-07-11T14:25:42.863Z"
   },
   {
    "duration": 37,
    "start_time": "2022-07-11T14:25:42.868Z"
   },
   {
    "duration": 4,
    "start_time": "2022-07-11T14:25:42.908Z"
   },
   {
    "duration": 38,
    "start_time": "2022-07-11T14:25:42.914Z"
   },
   {
    "duration": 8,
    "start_time": "2022-07-11T14:25:42.954Z"
   },
   {
    "duration": 3,
    "start_time": "2022-07-11T14:25:42.964Z"
   },
   {
    "duration": 48,
    "start_time": "2022-07-11T14:25:42.969Z"
   },
   {
    "duration": 16,
    "start_time": "2022-07-11T14:25:43.018Z"
   },
   {
    "duration": 10,
    "start_time": "2022-07-11T14:25:43.036Z"
   },
   {
    "duration": 6,
    "start_time": "2022-07-11T14:25:43.048Z"
   },
   {
    "duration": 12,
    "start_time": "2022-07-11T14:25:43.055Z"
   },
   {
    "duration": 44,
    "start_time": "2022-07-11T14:25:43.069Z"
   },
   {
    "duration": 8,
    "start_time": "2022-07-11T14:25:43.115Z"
   },
   {
    "duration": 13,
    "start_time": "2022-07-11T14:25:43.124Z"
   },
   {
    "duration": 7,
    "start_time": "2022-07-11T14:25:43.139Z"
   },
   {
    "duration": 7,
    "start_time": "2022-07-11T14:25:43.147Z"
   },
   {
    "duration": 7,
    "start_time": "2022-07-11T14:25:43.156Z"
   },
   {
    "duration": 5,
    "start_time": "2022-07-11T14:25:43.165Z"
   },
   {
    "duration": 5,
    "start_time": "2022-07-11T14:25:56.999Z"
   },
   {
    "duration": 14,
    "start_time": "2022-07-11T14:26:02.705Z"
   },
   {
    "duration": 4,
    "start_time": "2022-07-11T14:26:36.168Z"
   },
   {
    "duration": 4,
    "start_time": "2022-07-11T14:26:47.415Z"
   },
   {
    "duration": 56,
    "start_time": "2022-07-11T14:34:10.679Z"
   },
   {
    "duration": 4,
    "start_time": "2022-07-11T14:36:14.584Z"
   },
   {
    "duration": 5,
    "start_time": "2022-07-11T14:38:49.851Z"
   },
   {
    "duration": 5,
    "start_time": "2022-07-11T14:39:30.851Z"
   },
   {
    "duration": 6,
    "start_time": "2022-07-11T14:39:44.844Z"
   },
   {
    "duration": 44,
    "start_time": "2022-07-11T14:41:29.555Z"
   },
   {
    "duration": 6,
    "start_time": "2022-07-11T14:42:48.983Z"
   },
   {
    "duration": 8,
    "start_time": "2022-07-11T14:43:06.836Z"
   },
   {
    "duration": 5,
    "start_time": "2022-07-11T14:43:21.291Z"
   },
   {
    "duration": 88,
    "start_time": "2022-07-11T14:43:31.574Z"
   },
   {
    "duration": 6,
    "start_time": "2022-07-11T14:43:41.778Z"
   },
   {
    "duration": 5,
    "start_time": "2022-07-11T14:43:49.712Z"
   },
   {
    "duration": 6,
    "start_time": "2022-07-11T14:44:01.129Z"
   },
   {
    "duration": 163,
    "start_time": "2022-07-11T14:53:32.509Z"
   },
   {
    "duration": 11,
    "start_time": "2022-07-11T14:53:48.451Z"
   },
   {
    "duration": 11,
    "start_time": "2022-07-11T14:54:16.547Z"
   },
   {
    "duration": 60,
    "start_time": "2022-07-11T14:58:22.617Z"
   },
   {
    "duration": 68,
    "start_time": "2022-07-11T14:58:50.706Z"
   },
   {
    "duration": 15,
    "start_time": "2022-07-11T14:59:11.791Z"
   },
   {
    "duration": 11,
    "start_time": "2022-07-11T14:59:25.362Z"
   },
   {
    "duration": 9,
    "start_time": "2022-07-11T14:59:48.767Z"
   },
   {
    "duration": 9,
    "start_time": "2022-07-11T16:14:39.740Z"
   },
   {
    "duration": 22,
    "start_time": "2022-07-11T16:18:14.356Z"
   },
   {
    "duration": 16,
    "start_time": "2022-07-11T16:18:47.202Z"
   },
   {
    "duration": 15,
    "start_time": "2022-07-11T16:19:03.364Z"
   },
   {
    "duration": 14,
    "start_time": "2022-07-11T16:20:29.292Z"
   },
   {
    "duration": 10,
    "start_time": "2022-07-11T16:21:13.300Z"
   },
   {
    "duration": 14,
    "start_time": "2022-07-11T16:21:38.145Z"
   },
   {
    "duration": 12,
    "start_time": "2022-07-11T16:21:53.501Z"
   },
   {
    "duration": 15,
    "start_time": "2022-07-11T16:22:19.054Z"
   },
   {
    "duration": 12,
    "start_time": "2022-07-11T16:22:33.299Z"
   },
   {
    "duration": 17,
    "start_time": "2022-07-11T16:30:52.776Z"
   },
   {
    "duration": 14,
    "start_time": "2022-07-11T16:31:03.560Z"
   },
   {
    "duration": 19,
    "start_time": "2022-07-11T16:31:46.772Z"
   },
   {
    "duration": 13,
    "start_time": "2022-07-11T16:32:16.252Z"
   },
   {
    "duration": 16,
    "start_time": "2022-07-11T16:36:42.290Z"
   },
   {
    "duration": 21,
    "start_time": "2022-07-11T16:37:04.003Z"
   },
   {
    "duration": 16,
    "start_time": "2022-07-11T16:41:13.668Z"
   },
   {
    "duration": 20,
    "start_time": "2022-07-11T16:41:50.353Z"
   },
   {
    "duration": 16,
    "start_time": "2022-07-11T16:44:37.119Z"
   },
   {
    "duration": 20,
    "start_time": "2022-07-11T16:44:44.770Z"
   },
   {
    "duration": 21,
    "start_time": "2022-07-11T16:44:53.105Z"
   },
   {
    "duration": 16,
    "start_time": "2022-07-11T16:47:08.766Z"
   },
   {
    "duration": 10,
    "start_time": "2022-07-11T16:47:43.347Z"
   },
   {
    "duration": 10,
    "start_time": "2022-07-11T16:50:22.133Z"
   },
   {
    "duration": 20,
    "start_time": "2022-07-11T16:52:51.473Z"
   },
   {
    "duration": 12,
    "start_time": "2022-07-11T16:54:36.494Z"
   },
   {
    "duration": 14,
    "start_time": "2022-07-11T17:03:09.515Z"
   },
   {
    "duration": 13,
    "start_time": "2022-07-11T17:14:42.178Z"
   },
   {
    "duration": 10,
    "start_time": "2022-07-11T17:15:40.570Z"
   },
   {
    "duration": 15,
    "start_time": "2022-07-11T17:21:03.464Z"
   },
   {
    "duration": 12,
    "start_time": "2022-07-11T17:21:21.397Z"
   },
   {
    "duration": 18,
    "start_time": "2022-07-11T17:25:38.751Z"
   },
   {
    "duration": 15,
    "start_time": "2022-07-11T17:25:48.015Z"
   },
   {
    "duration": 4,
    "start_time": "2022-07-11T17:28:16.359Z"
   },
   {
    "duration": 442,
    "start_time": "2022-07-11T17:29:02.051Z"
   },
   {
    "duration": 26,
    "start_time": "2022-07-11T17:29:02.494Z"
   },
   {
    "duration": 21,
    "start_time": "2022-07-11T17:29:02.523Z"
   },
   {
    "duration": 13,
    "start_time": "2022-07-11T17:29:02.547Z"
   },
   {
    "duration": 64,
    "start_time": "2022-07-11T17:29:02.562Z"
   },
   {
    "duration": 4,
    "start_time": "2022-07-11T17:29:02.627Z"
   },
   {
    "duration": 10,
    "start_time": "2022-07-11T17:29:02.633Z"
   },
   {
    "duration": 11,
    "start_time": "2022-07-11T17:29:02.645Z"
   },
   {
    "duration": 17,
    "start_time": "2022-07-11T17:29:02.658Z"
   },
   {
    "duration": 4,
    "start_time": "2022-07-11T17:29:02.679Z"
   },
   {
    "duration": 52,
    "start_time": "2022-07-11T17:29:02.684Z"
   },
   {
    "duration": 12,
    "start_time": "2022-07-11T17:29:02.737Z"
   },
   {
    "duration": 11,
    "start_time": "2022-07-11T17:29:02.751Z"
   },
   {
    "duration": 25,
    "start_time": "2022-07-11T17:29:02.763Z"
   },
   {
    "duration": 32,
    "start_time": "2022-07-11T17:29:02.790Z"
   },
   {
    "duration": 11,
    "start_time": "2022-07-11T17:29:02.825Z"
   },
   {
    "duration": 20,
    "start_time": "2022-07-11T17:29:02.838Z"
   },
   {
    "duration": 15,
    "start_time": "2022-07-11T17:29:02.860Z"
   },
   {
    "duration": 15,
    "start_time": "2022-07-11T17:29:02.877Z"
   },
   {
    "duration": 16,
    "start_time": "2022-07-11T17:29:02.894Z"
   },
   {
    "duration": 20,
    "start_time": "2022-07-11T17:29:02.913Z"
   },
   {
    "duration": 16,
    "start_time": "2022-07-11T17:29:02.935Z"
   },
   {
    "duration": 21,
    "start_time": "2022-07-11T17:29:02.953Z"
   },
   {
    "duration": 62,
    "start_time": "2022-07-11T17:29:02.975Z"
   },
   {
    "duration": 28,
    "start_time": "2022-07-11T17:29:03.038Z"
   },
   {
    "duration": 12,
    "start_time": "2022-07-11T17:37:51.761Z"
   },
   {
    "duration": 12,
    "start_time": "2022-07-11T17:50:38.922Z"
   },
   {
    "duration": 70,
    "start_time": "2022-07-11T17:51:44.150Z"
   },
   {
    "duration": 23,
    "start_time": "2022-07-11T17:51:55.134Z"
   },
   {
    "duration": 15,
    "start_time": "2022-07-11T17:55:10.381Z"
   },
   {
    "duration": 19,
    "start_time": "2022-07-11T17:55:44.549Z"
   },
   {
    "duration": 13,
    "start_time": "2022-07-11T17:59:26.073Z"
   },
   {
    "duration": 4,
    "start_time": "2022-07-11T18:02:24.340Z"
   },
   {
    "duration": 17,
    "start_time": "2022-07-11T18:02:33.019Z"
   },
   {
    "duration": 17,
    "start_time": "2022-07-11T18:03:03.269Z"
   },
   {
    "duration": 17,
    "start_time": "2022-07-11T18:03:27.261Z"
   },
   {
    "duration": 16,
    "start_time": "2022-07-11T18:08:56.846Z"
   },
   {
    "duration": 16,
    "start_time": "2022-07-11T18:25:21.278Z"
   },
   {
    "duration": 15,
    "start_time": "2022-07-11T18:38:09.178Z"
   },
   {
    "duration": 12,
    "start_time": "2022-07-11T18:38:28.161Z"
   },
   {
    "duration": 10,
    "start_time": "2022-07-11T18:51:05.164Z"
   },
   {
    "duration": 14,
    "start_time": "2022-07-11T18:51:25.350Z"
   },
   {
    "duration": 10,
    "start_time": "2022-07-11T18:52:18.353Z"
   },
   {
    "duration": 14,
    "start_time": "2022-07-11T18:52:35.143Z"
   },
   {
    "duration": 11,
    "start_time": "2022-07-11T18:52:50.920Z"
   },
   {
    "duration": 11,
    "start_time": "2022-07-11T18:53:24.258Z"
   },
   {
    "duration": 20,
    "start_time": "2022-07-11T18:53:34.997Z"
   },
   {
    "duration": 11,
    "start_time": "2022-07-11T18:53:55.740Z"
   },
   {
    "duration": 914,
    "start_time": "2022-07-11T18:54:58.349Z"
   },
   {
    "duration": 10,
    "start_time": "2022-07-11T18:56:46.799Z"
   },
   {
    "duration": 515,
    "start_time": "2022-07-12T06:51:58.780Z"
   },
   {
    "duration": 29,
    "start_time": "2022-07-12T06:51:59.297Z"
   },
   {
    "duration": 14,
    "start_time": "2022-07-12T06:51:59.328Z"
   },
   {
    "duration": 9,
    "start_time": "2022-07-12T06:51:59.344Z"
   },
   {
    "duration": 56,
    "start_time": "2022-07-12T06:51:59.355Z"
   },
   {
    "duration": 3,
    "start_time": "2022-07-12T06:51:59.412Z"
   },
   {
    "duration": 11,
    "start_time": "2022-07-12T06:51:59.417Z"
   },
   {
    "duration": 5,
    "start_time": "2022-07-12T06:51:59.430Z"
   },
   {
    "duration": 10,
    "start_time": "2022-07-12T06:51:59.436Z"
   },
   {
    "duration": 5,
    "start_time": "2022-07-12T06:51:59.448Z"
   },
   {
    "duration": 69,
    "start_time": "2022-07-12T06:51:59.454Z"
   },
   {
    "duration": 9,
    "start_time": "2022-07-12T06:51:59.525Z"
   },
   {
    "duration": 11,
    "start_time": "2022-07-12T06:51:59.535Z"
   },
   {
    "duration": 26,
    "start_time": "2022-07-12T06:51:59.548Z"
   },
   {
    "duration": 34,
    "start_time": "2022-07-12T06:51:59.576Z"
   },
   {
    "duration": 11,
    "start_time": "2022-07-12T06:51:59.612Z"
   },
   {
    "duration": 8,
    "start_time": "2022-07-12T06:51:59.625Z"
   },
   {
    "duration": 17,
    "start_time": "2022-07-12T06:51:59.635Z"
   },
   {
    "duration": 5,
    "start_time": "2022-07-12T06:51:59.653Z"
   },
   {
    "duration": 4,
    "start_time": "2022-07-12T06:51:59.660Z"
   },
   {
    "duration": 14,
    "start_time": "2022-07-12T06:51:59.666Z"
   },
   {
    "duration": 25,
    "start_time": "2022-07-12T06:51:59.682Z"
   },
   {
    "duration": 16,
    "start_time": "2022-07-12T06:51:59.709Z"
   },
   {
    "duration": 18,
    "start_time": "2022-07-12T06:51:59.727Z"
   },
   {
    "duration": 20,
    "start_time": "2022-07-12T06:51:59.746Z"
   },
   {
    "duration": 9,
    "start_time": "2022-07-12T06:51:59.767Z"
   },
   {
    "duration": 748,
    "start_time": "2022-07-12T10:46:42.996Z"
   },
   {
    "duration": 20,
    "start_time": "2022-07-12T10:46:43.745Z"
   },
   {
    "duration": 13,
    "start_time": "2022-07-12T10:46:43.767Z"
   },
   {
    "duration": 8,
    "start_time": "2022-07-12T10:46:43.781Z"
   },
   {
    "duration": 29,
    "start_time": "2022-07-12T10:46:43.792Z"
   },
   {
    "duration": 3,
    "start_time": "2022-07-12T10:46:43.823Z"
   },
   {
    "duration": 31,
    "start_time": "2022-07-12T10:46:43.827Z"
   },
   {
    "duration": 4,
    "start_time": "2022-07-12T10:46:43.859Z"
   },
   {
    "duration": 8,
    "start_time": "2022-07-12T10:46:43.865Z"
   },
   {
    "duration": 5,
    "start_time": "2022-07-12T10:46:43.875Z"
   },
   {
    "duration": 33,
    "start_time": "2022-07-12T10:46:43.881Z"
   },
   {
    "duration": 9,
    "start_time": "2022-07-12T10:46:43.915Z"
   },
   {
    "duration": 4,
    "start_time": "2022-07-12T10:46:43.952Z"
   },
   {
    "duration": 18,
    "start_time": "2022-07-12T10:46:43.959Z"
   },
   {
    "duration": 15,
    "start_time": "2022-07-12T10:46:43.979Z"
   },
   {
    "duration": 10,
    "start_time": "2022-07-12T10:46:43.995Z"
   },
   {
    "duration": 6,
    "start_time": "2022-07-12T10:46:44.007Z"
   },
   {
    "duration": 12,
    "start_time": "2022-07-12T10:46:44.015Z"
   },
   {
    "duration": 26,
    "start_time": "2022-07-12T10:46:44.029Z"
   },
   {
    "duration": 6,
    "start_time": "2022-07-12T10:46:44.056Z"
   },
   {
    "duration": 10,
    "start_time": "2022-07-12T10:46:44.064Z"
   },
   {
    "duration": 11,
    "start_time": "2022-07-12T10:46:44.076Z"
   },
   {
    "duration": 12,
    "start_time": "2022-07-12T10:46:44.089Z"
   },
   {
    "duration": 12,
    "start_time": "2022-07-12T10:46:44.103Z"
   },
   {
    "duration": 43,
    "start_time": "2022-07-12T10:46:44.117Z"
   },
   {
    "duration": 8,
    "start_time": "2022-07-12T10:46:44.162Z"
   },
   {
    "duration": 58,
    "start_time": "2022-07-12T10:49:35.303Z"
   },
   {
    "duration": 11,
    "start_time": "2022-07-12T10:50:40.630Z"
   },
   {
    "duration": 11,
    "start_time": "2022-07-12T10:51:29.727Z"
   },
   {
    "duration": 73,
    "start_time": "2022-07-12T10:51:55.941Z"
   },
   {
    "duration": 6,
    "start_time": "2022-07-12T10:52:15.565Z"
   },
   {
    "duration": 76,
    "start_time": "2022-07-12T10:53:16.075Z"
   },
   {
    "duration": 70,
    "start_time": "2022-07-12T10:53:18.909Z"
   },
   {
    "duration": 17,
    "start_time": "2022-07-12T10:56:12.232Z"
   }
  ],
  "celltoolbar": "Edit Metadata",
  "colab": {
   "name": "dpp_template_part2.ipynb",
   "provenance": []
  },
  "kernelspec": {
   "display_name": "Python 3 (ipykernel)",
   "language": "python",
   "name": "python3"
  },
  "language_info": {
   "codemirror_mode": {
    "name": "ipython",
    "version": 3
   },
   "file_extension": ".py",
   "mimetype": "text/x-python",
   "name": "python",
   "nbconvert_exporter": "python",
   "pygments_lexer": "ipython3",
   "version": "3.9.12"
  },
  "toc": {
   "base_numbering": 1,
   "nav_menu": {},
   "number_sections": true,
   "sideBar": true,
   "skip_h1_title": true,
   "title_cell": "Table of Contents",
   "title_sidebar": "Contents",
   "toc_cell": false,
   "toc_position": {},
   "toc_section_display": true,
   "toc_window_display": false
  }
 },
 "nbformat": 4,
 "nbformat_minor": 5
}
